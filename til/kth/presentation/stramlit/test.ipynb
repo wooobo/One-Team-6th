{
 "cells": [
  {
   "metadata": {},
   "cell_type": "markdown",
   "source": [
    "## Streamlit이란\n",
    "\n",
    "Streamlit은 Python 기반의 데이터 애플리케이션을 간단하게 만들 수 있는 라이브러리\n"
   ],
   "id": "740085a33c70b266"
  },
  {
   "metadata": {},
   "cell_type": "markdown",
   "source": [
    "### 1. 설치 가이드\n",
    "\n",
    "- [docs](https://docs.streamlit.io/get-started/installation)\n",
    "\n",
    "#### 설치 및 샘플 실행 커맨드\n",
    "\n",
    "```bash\n",
    "pip install streamlit\n",
    "\n",
    "streamlit hello\n",
    "```"
   ],
   "id": "d7df692e0ae75ec"
  },
  {
   "metadata": {},
   "cell_type": "markdown",
   "source": "### 2. 사용 예시\n",
   "id": "5a5f5cf44981f973"
  },
  {
   "metadata": {
    "ExecuteTime": {
     "end_time": "2025-03-11T09:31:31.140663Z",
     "start_time": "2025-03-11T09:31:30.860230Z"
    }
   },
   "cell_type": "code",
   "source": "import streamlit as st\n",
   "id": "42581a5afc801464",
   "outputs": [],
   "execution_count": 1
  },
  {
   "metadata": {
    "ExecuteTime": {
     "end_time": "2025-03-11T09:31:32.598334Z",
     "start_time": "2025-03-11T09:31:32.548634Z"
    }
   },
   "cell_type": "code",
   "source": [
    "# example_1.py\n",
    "st.write(\"Hello world\")"
   ],
   "id": "b660db4a184d7b6d",
   "outputs": [
    {
     "name": "stderr",
     "output_type": "stream",
     "text": [
      "2025-03-11 18:31:32.549 WARNING streamlit.runtime.scriptrunner_utils.script_run_context: Thread 'MainThread': missing ScriptRunContext! This warning can be ignored when running in bare mode.\n",
      "2025-03-11 18:31:32.595 \n",
      "  \u001B[33m\u001B[1mWarning:\u001B[0m to view this Streamlit app on a browser, run it with the following\n",
      "  command:\n",
      "\n",
      "    streamlit run /Users/slowin/miniconda3/lib/python3.12/site-packages/ipykernel_launcher.py [ARGUMENTS]\n",
      "2025-03-11 18:31:32.596 Thread 'MainThread': missing ScriptRunContext! This warning can be ignored when running in bare mode.\n",
      "2025-03-11 18:31:32.596 Thread 'MainThread': missing ScriptRunContext! This warning can be ignored when running in bare mode.\n",
      "2025-03-11 18:31:32.596 Thread 'MainThread': missing ScriptRunContext! This warning can be ignored when running in bare mode.\n"
     ]
    }
   ],
   "execution_count": 2
  },
  {
   "metadata": {},
   "cell_type": "code",
   "source": "",
   "id": "5e09523585876e71",
   "outputs": [],
   "execution_count": null
  },
  {
   "metadata": {},
   "cell_type": "code",
   "source": "",
   "id": "1e257fb6df317cba",
   "outputs": [],
   "execution_count": null
  },
  {
   "metadata": {},
   "cell_type": "code",
   "source": "",
   "id": "d573e68fed84105d",
   "outputs": [],
   "execution_count": null
  },
  {
   "cell_type": "code",
   "id": "initial_id",
   "metadata": {
    "collapsed": true
   },
   "source": "! streamlit run example_5.py",
   "outputs": [],
   "execution_count": null
  },
  {
   "metadata": {},
   "cell_type": "code",
   "source": "",
   "id": "1a6e99112233df93",
   "outputs": [],
   "execution_count": null
  },
  {
   "metadata": {},
   "cell_type": "code",
   "source": "",
   "id": "8dc4e7ae6be6908b",
   "outputs": [],
   "execution_count": null
  }
 ],
 "metadata": {
  "kernelspec": {
   "display_name": "Python 3",
   "language": "python",
   "name": "python3"
  },
  "language_info": {
   "codemirror_mode": {
    "name": "ipython",
    "version": 2
   },
   "file_extension": ".py",
   "mimetype": "text/x-python",
   "name": "python",
   "nbconvert_exporter": "python",
   "pygments_lexer": "ipython2",
   "version": "2.7.6"
  }
 },
 "nbformat": 4,
 "nbformat_minor": 5
}
